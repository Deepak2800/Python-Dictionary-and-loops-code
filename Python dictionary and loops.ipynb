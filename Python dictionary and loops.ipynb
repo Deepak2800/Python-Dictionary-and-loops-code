{
 "cells": [
  {
   "cell_type": "code",
   "execution_count": 1,
   "id": "940a0411-00d1-4b23-b463-3acbb9ec2911",
   "metadata": {},
   "outputs": [],
   "source": [
    "d = {}"
   ]
  },
  {
   "cell_type": "code",
   "execution_count": 2,
   "id": "0334665b-9a41-46d1-8a28-6b23b2d9ff30",
   "metadata": {},
   "outputs": [],
   "source": []
  },
  {
   "cell_type": "code",
   "execution_count": 4,
   "id": "407f004e-89d9-4cba-a1d5-c217ab83fe4b",
   "metadata": {},
   "outputs": [
    {
     "data": {
      "text/plain": [
       "dict"
      ]
     },
     "execution_count": 4,
     "metadata": {},
     "output_type": "execute_result"
    }
   ],
   "source": [
    "type(d)"
   ]
  },
  {
   "cell_type": "code",
   "execution_count": 5,
   "id": "1e74cd98-90ea-4127-b6d2-7d42f64db7ee",
   "metadata": {},
   "outputs": [],
   "source": [
    "d1 = {'key' : 'deep'}"
   ]
  },
  {
   "cell_type": "code",
   "execution_count": 6,
   "id": "04fafd0d-9f76-412e-b312-2d18f8437f51",
   "metadata": {},
   "outputs": [
    {
     "data": {
      "text/plain": [
       "{'key': 'deep'}"
      ]
     },
     "execution_count": 6,
     "metadata": {},
     "output_type": "execute_result"
    }
   ],
   "source": [
    "d1"
   ]
  },
  {
   "cell_type": "code",
   "execution_count": 9,
   "id": "12674416-f282-468b-9d45-7fd911d370c7",
   "metadata": {},
   "outputs": [],
   "source": [
    "d2 = {'name' : 'deepak' , 'phone' : 816802222}"
   ]
  },
  {
   "cell_type": "code",
   "execution_count": 10,
   "id": "b6e8e0c4-b11a-4de5-a684-b3614efc97b9",
   "metadata": {},
   "outputs": [
    {
     "data": {
      "text/plain": [
       "{'name': 'deepak', 'phone': 816802222}"
      ]
     },
     "execution_count": 10,
     "metadata": {},
     "output_type": "execute_result"
    }
   ],
   "source": [
    "d2"
   ]
  },
  {
   "cell_type": "code",
   "execution_count": null,
   "id": "cb222f9a-9cf2-442b-8622-a41e44dd2065",
   "metadata": {},
   "outputs": [],
   "source": [
    "d3 = {234 : \"deep\" , '@wer' : \"kumar\""
   ]
  },
  {
   "cell_type": "code",
   "execution_count": 12,
   "id": "d33f64b5-d416-4050-bb6c-0a77ca74d03f",
   "metadata": {},
   "outputs": [],
   "source": []
  },
  {
   "cell_type": "code",
   "execution_count": 17,
   "id": "1d06b787-8389-4b32-80c3-00f426362b25",
   "metadata": {},
   "outputs": [],
   "source": [
    "d3 = {234 : \"deep\" , '_wer' : \"kumar\" , True : 2345}"
   ]
  },
  {
   "cell_type": "code",
   "execution_count": 18,
   "id": "ec06811e-946e-4ad1-b8a5-7061d14a47a2",
   "metadata": {},
   "outputs": [
    {
     "data": {
      "text/plain": [
       "{234: 'deep', '_wer': 'kumar', True: 2345}"
      ]
     },
     "execution_count": 18,
     "metadata": {},
     "output_type": "execute_result"
    }
   ],
   "source": [
    "d3"
   ]
  },
  {
   "cell_type": "code",
   "execution_count": 21,
   "id": "cc323a58-02ec-44c7-bee7-b67f866de0f9",
   "metadata": {},
   "outputs": [
    {
     "data": {
      "text/plain": [
       "2345"
      ]
     },
     "execution_count": 21,
     "metadata": {},
     "output_type": "execute_result"
    }
   ],
   "source": [
    "d3[True]"
   ]
  },
  {
   "cell_type": "code",
   "execution_count": 22,
   "id": "d79bd6dc-4091-4788-81f4-b6aef63fcadc",
   "metadata": {},
   "outputs": [
    {
     "data": {
      "text/plain": [
       "2345"
      ]
     },
     "execution_count": 22,
     "metadata": {},
     "output_type": "execute_result"
    }
   ],
   "source": [
    "d3[1]"
   ]
  },
  {
   "cell_type": "code",
   "execution_count": 23,
   "id": "b47cb297-698a-4a08-8aaf-dcb17581a078",
   "metadata": {},
   "outputs": [
    {
     "data": {
      "text/plain": [
       "'deep'"
      ]
     },
     "execution_count": 23,
     "metadata": {},
     "output_type": "execute_result"
    }
   ],
   "source": [
    "d3[234]"
   ]
  },
  {
   "cell_type": "code",
   "execution_count": 24,
   "id": "7eed9a86-b368-48fd-aebb-794380eaca44",
   "metadata": {},
   "outputs": [
    {
     "data": {
      "text/plain": [
       "2345"
      ]
     },
     "execution_count": 24,
     "metadata": {},
     "output_type": "execute_result"
    }
   ],
   "source": [
    "d3[True]"
   ]
  },
  {
   "cell_type": "code",
   "execution_count": 25,
   "id": "4cb36aed-a5ef-4a71-9e4e-bcb662f880a0",
   "metadata": {},
   "outputs": [
    {
     "data": {
      "text/plain": [
       "2345"
      ]
     },
     "execution_count": 25,
     "metadata": {},
     "output_type": "execute_result"
    }
   ],
   "source": [
    "d3[1]"
   ]
  },
  {
   "cell_type": "code",
   "execution_count": 26,
   "id": "703f737e-7af1-4d71-8a32-599a1826b090",
   "metadata": {},
   "outputs": [],
   "source": []
  },
  {
   "cell_type": "code",
   "execution_count": 27,
   "id": "efb2666d-b4d5-4390-977d-beabe5d3515c",
   "metadata": {},
   "outputs": [],
   "source": [
    "d4 = {'name' : 'deepak' , 'mail_id' : \"ss@gmail.com\" , \"name\" : \"Yadav\"}"
   ]
  },
  {
   "cell_type": "code",
   "execution_count": 29,
   "id": "548d377c-0756-4993-a8bd-d12973aaa62f",
   "metadata": {},
   "outputs": [
    {
     "data": {
      "text/plain": [
       "'Yadav'"
      ]
     },
     "execution_count": 29,
     "metadata": {},
     "output_type": "execute_result"
    }
   ],
   "source": [
    "d4['name']"
   ]
  },
  {
   "cell_type": "code",
   "execution_count": 30,
   "id": "2a1dd1bc-1122-414d-a781-b4e0b3eed6c5",
   "metadata": {},
   "outputs": [],
   "source": [
    "d5 = {\"company\" : \"pwskills\" , \"course\" : [\"web dev\" , \"data science\"]}"
   ]
  },
  {
   "cell_type": "code",
   "execution_count": 31,
   "id": "075ae806-e766-483b-a4d5-d3a5fa7cb549",
   "metadata": {},
   "outputs": [
    {
     "data": {
      "text/plain": [
       "{'company': 'pwskills', 'course': ['web dev', 'data science']}"
      ]
     },
     "execution_count": 31,
     "metadata": {},
     "output_type": "execute_result"
    }
   ],
   "source": [
    "d5"
   ]
  },
  {
   "cell_type": "code",
   "execution_count": 32,
   "id": "45252c1a-b2ef-443c-ba39-2f3254057273",
   "metadata": {},
   "outputs": [
    {
     "data": {
      "text/plain": [
       "['web dev', 'data science']"
      ]
     },
     "execution_count": 32,
     "metadata": {},
     "output_type": "execute_result"
    }
   ],
   "source": [
    "d5['course']"
   ]
  },
  {
   "cell_type": "code",
   "execution_count": 34,
   "id": "a7d03dc7-7eba-4518-95a8-6a88d3750d84",
   "metadata": {},
   "outputs": [
    {
     "data": {
      "text/plain": [
       "'data science'"
      ]
     },
     "execution_count": 34,
     "metadata": {},
     "output_type": "execute_result"
    }
   ],
   "source": [
    "d5['course'][1]"
   ]
  },
  {
   "cell_type": "code",
   "execution_count": 5,
   "id": "f865602a-d258-4a62-bd35-f45cb4792211",
   "metadata": {},
   "outputs": [],
   "source": [
    "d6  = {\"number\" : [ 2 , 34, 3, 34,34], \"assignment\" : (1,2,3,4,5,6) , \"launch_date\" : {28,12,14} , \"class_time\" : {\"web_dev\" : 8 , \"data science\" : 8, \"java\" : 7} }"
   ]
  },
  {
   "cell_type": "code",
   "execution_count": 6,
   "id": "9447c091-02a3-4b2a-a1a0-c6e18898a1d0",
   "metadata": {},
   "outputs": [
    {
     "data": {
      "text/plain": [
       "{'number': [2, 34, 3, 34, 34],\n",
       " 'assignment': (1, 2, 3, 4, 5, 6),\n",
       " 'launch_date': {12, 14, 28},\n",
       " 'class_time': {'web_dev': 8, 'data science': 8, 'java': 7}}"
      ]
     },
     "execution_count": 6,
     "metadata": {},
     "output_type": "execute_result"
    }
   ],
   "source": [
    "d6"
   ]
  },
  {
   "cell_type": "code",
   "execution_count": 41,
   "id": "00344b36-ff34-47cb-85e8-8af37906f330",
   "metadata": {},
   "outputs": [
    {
     "data": {
      "text/plain": [
       "{'web_dev': 8, 'data science': 8, 'java': 7}"
      ]
     },
     "execution_count": 41,
     "metadata": {},
     "output_type": "execute_result"
    }
   ],
   "source": [
    "d6['class_time']"
   ]
  },
  {
   "cell_type": "code",
   "execution_count": 43,
   "id": "c777b7ef-fad7-4ead-bc57-0426836e5555",
   "metadata": {},
   "outputs": [
    {
     "data": {
      "text/plain": [
       "7"
      ]
     },
     "execution_count": 43,
     "metadata": {},
     "output_type": "execute_result"
    }
   ],
   "source": [
    "d6['class_time']['java']"
   ]
  },
  {
   "cell_type": "code",
   "execution_count": 44,
   "id": "67e52445-4458-4282-a5a7-665138447f38",
   "metadata": {},
   "outputs": [
    {
     "data": {
      "text/plain": [
       "{'number': [2, 34, 3, 34, 34],\n",
       " 'assignment': (1, 2, 3, 4, 5, 6),\n",
       " 'launch_date': {12, 14, 28},\n",
       " 'class_time': {'web_dev': 8, 'data science': 8, 'java': 7}}"
      ]
     },
     "execution_count": 44,
     "metadata": {},
     "output_type": "execute_result"
    }
   ],
   "source": [
    "d6"
   ]
  },
  {
   "cell_type": "code",
   "execution_count": 45,
   "id": "e7afc14a-43df-42d2-94c2-2fa1e4c6e6c6",
   "metadata": {},
   "outputs": [],
   "source": [
    "d6['mentor'] = [\"deepak\" , \"yadav\" , \"kunal\"]"
   ]
  },
  {
   "cell_type": "code",
   "execution_count": 46,
   "id": "3e403bb6-4e6a-411e-b6c5-4a7d10ae29e5",
   "metadata": {},
   "outputs": [
    {
     "data": {
      "text/plain": [
       "{'number': [2, 34, 3, 34, 34],\n",
       " 'assignment': (1, 2, 3, 4, 5, 6),\n",
       " 'launch_date': {12, 14, 28},\n",
       " 'class_time': {'web_dev': 8, 'data science': 8, 'java': 7},\n",
       " 'mentor': ['deepak', 'yadav', 'kunal']}"
      ]
     },
     "execution_count": 46,
     "metadata": {},
     "output_type": "execute_result"
    }
   ],
   "source": [
    "d6"
   ]
  },
  {
   "cell_type": "code",
   "execution_count": 47,
   "id": "103d26be-57ce-44eb-93a4-dcbec6a7b2ce",
   "metadata": {},
   "outputs": [],
   "source": [
    "#we can easily add the keys "
   ]
  },
  {
   "cell_type": "code",
   "execution_count": 48,
   "id": "0b9d080b-db79-4686-b387-528d7e69bf75",
   "metadata": {},
   "outputs": [],
   "source": [
    "del d6['number']"
   ]
  },
  {
   "cell_type": "code",
   "execution_count": 4,
   "id": "405fdaec-7df3-4b8d-ba4a-c82dc9717408",
   "metadata": {},
   "outputs": [
    {
     "ename": "NameError",
     "evalue": "name 'd6' is not defined",
     "output_type": "error",
     "traceback": [
      "\u001b[0;31m---------------------------------------------------------------------------\u001b[0m",
      "\u001b[0;31mNameError\u001b[0m                                 Traceback (most recent call last)",
      "Cell \u001b[0;32mIn[4], line 1\u001b[0m\n\u001b[0;32m----> 1\u001b[0m \u001b[43md6\u001b[49m\n",
      "\u001b[0;31mNameError\u001b[0m: name 'd6' is not defined"
     ]
    }
   ],
   "source": [
    "d6"
   ]
  },
  {
   "cell_type": "code",
   "execution_count": 52,
   "id": "385bcfe3-dfec-4c7e-bd5f-907c2388e279",
   "metadata": {},
   "outputs": [
    {
     "data": {
      "text/plain": [
       "['assignment', 'launch_date', 'class_time', 'mentor']"
      ]
     },
     "execution_count": 52,
     "metadata": {},
     "output_type": "execute_result"
    }
   ],
   "source": [
    "list(d6.keys())"
   ]
  },
  {
   "cell_type": "code",
   "execution_count": 51,
   "id": "8f0ff3b6-eb89-429f-b986-58658b3a9277",
   "metadata": {},
   "outputs": [],
   "source": []
  },
  {
   "cell_type": "code",
   "execution_count": 53,
   "id": "53dadc6e-13a4-4215-8768-7dbbdd72e98b",
   "metadata": {},
   "outputs": [
    {
     "data": {
      "text/plain": [
       "dict_values([(1, 2, 3, 4, 5, 6), {28, 12, 14}, {'web_dev': 8, 'data science': 8, 'java': 7}, ['deepak', 'yadav', 'kunal']])"
      ]
     },
     "execution_count": 53,
     "metadata": {},
     "output_type": "execute_result"
    }
   ],
   "source": [
    "d6.values()"
   ]
  },
  {
   "cell_type": "code",
   "execution_count": 54,
   "id": "09859b2c-84bd-4f40-92b4-489194d25d41",
   "metadata": {},
   "outputs": [
    {
     "data": {
      "text/plain": [
       "[(1, 2, 3, 4, 5, 6),\n",
       " {12, 14, 28},\n",
       " {'web_dev': 8, 'data science': 8, 'java': 7},\n",
       " ['deepak', 'yadav', 'kunal']]"
      ]
     },
     "execution_count": 54,
     "metadata": {},
     "output_type": "execute_result"
    }
   ],
   "source": [
    "list(d6.values())"
   ]
  },
  {
   "cell_type": "code",
   "execution_count": 58,
   "id": "fe75b721-f61e-476f-9b2e-2f5d754fbfff",
   "metadata": {},
   "outputs": [
    {
     "data": {
      "text/plain": [
       "[('assignment', (1, 2, 3, 4, 5, 6)),\n",
       " ('launch_date', {12, 14, 28}),\n",
       " ('class_time', {'web_dev': 8, 'data science': 8, 'java': 7}),\n",
       " ('mentor', ['deepak', 'yadav', 'kunal'])]"
      ]
     },
     "execution_count": 58,
     "metadata": {},
     "output_type": "execute_result"
    }
   ],
   "source": [
    "list(d6.items())"
   ]
  },
  {
   "cell_type": "code",
   "execution_count": 7,
   "id": "4b9dd923-9dc5-41a6-bec5-a40db5a3e469",
   "metadata": {},
   "outputs": [
    {
     "data": {
      "text/plain": [
       "{'number': [2, 34, 3, 34, 34],\n",
       " 'assignment': (1, 2, 3, 4, 5, 6),\n",
       " 'launch_date': {12, 14, 28},\n",
       " 'class_time': {'web_dev': 8, 'data science': 8, 'java': 7}}"
      ]
     },
     "execution_count": 7,
     "metadata": {},
     "output_type": "execute_result"
    }
   ],
   "source": [
    "d6"
   ]
  },
  {
   "cell_type": "code",
   "execution_count": 10,
   "id": "bd9e34af-0db8-4484-ab1f-d327e0be522d",
   "metadata": {},
   "outputs": [
    {
     "data": {
      "text/plain": [
       "(1, 2, 3, 4, 5, 6)"
      ]
     },
     "execution_count": 10,
     "metadata": {},
     "output_type": "execute_result"
    }
   ],
   "source": [
    "d6.pop('assignment')"
   ]
  },
  {
   "cell_type": "code",
   "execution_count": 11,
   "id": "3aa3ae0c-2a04-4630-b669-93965d603f55",
   "metadata": {},
   "outputs": [
    {
     "data": {
      "text/plain": [
       "{'number': [2, 34, 3, 34, 34],\n",
       " 'launch_date': {12, 14, 28},\n",
       " 'class_time': {'web_dev': 8, 'data science': 8, 'java': 7}}"
      ]
     },
     "execution_count": 11,
     "metadata": {},
     "output_type": "execute_result"
    }
   ],
   "source": [
    "d6"
   ]
  },
  {
   "cell_type": "code",
   "execution_count": 15,
   "id": "fe1f64f2-a708-4da3-b4ae-3639aebed773",
   "metadata": {},
   "outputs": [
    {
     "name": "stdout",
     "output_type": "stream",
     "text": [
      "you will be part of A3 batch\n"
     ]
    }
   ],
   "source": [
    "marks = 21\n",
    "if marks >=80:\n",
    "    print(\"you will be a part of A0 batch\")\n",
    "elif marks >=60 and marks <=80:\n",
    "    print(\"you will be a part of A1 batch\")\n",
    "elif marks >=40 and marks <=60:\n",
    "    print(\"you will be a part of A2 batch\")\n",
    "else:\n",
    "    print(\"you will be part of A3 batch\")"
   ]
  },
  {
   "cell_type": "code",
   "execution_count": 16,
   "id": "b253f658-e4ee-4ec1-866a-ad8ac098bd3d",
   "metadata": {},
   "outputs": [
    {
     "data": {
      "text/plain": [
       "False"
      ]
     },
     "execution_count": 16,
     "metadata": {},
     "output_type": "execute_result"
    }
   ],
   "source": [
    "10>=80"
   ]
  },
  {
   "cell_type": "code",
   "execution_count": 22,
   "id": "21a55ee4-da3e-482d-a1a3-dbb66912fc3b",
   "metadata": {},
   "outputs": [
    {
     "name": "stdin",
     "output_type": "stream",
     "text": [
      "enter your marks 65\n"
     ]
    },
    {
     "name": "stdout",
     "output_type": "stream",
     "text": [
      "you will be a part of A1 batch\n"
     ]
    }
   ],
   "source": [
    "marks = int(input(\"enter your marks\"))\n",
    "if marks >=80:\n",
    "    print(\"you will be a part of A0 batch\")\n",
    "elif marks >=60 and marks <=80:\n",
    "    print(\"you will be a part of A1 batch\")\n",
    "elif marks >=40 and marks <=60:\n",
    "    print(\"you will be a part of A2 batch\")\n",
    "else:\n",
    "    print(\"you will be part of A3 batch\")"
   ]
  },
  {
   "cell_type": "code",
   "execution_count": 19,
   "id": "81fbdfb8-ecbb-4be2-9cff-a4a9192e8445",
   "metadata": {},
   "outputs": [],
   "source": []
  },
  {
   "cell_type": "code",
   "execution_count": 23,
   "id": "efeede90-b68f-4817-b3bd-67f148e3ff30",
   "metadata": {},
   "outputs": [
    {
     "data": {
      "text/plain": [
       "int"
      ]
     },
     "execution_count": 23,
     "metadata": {},
     "output_type": "execute_result"
    }
   ],
   "source": [
    "type(marks)"
   ]
  },
  {
   "cell_type": "code",
   "execution_count": 28,
   "id": "4a6d8fca-c6d2-4d43-8cee-c53b346afed3",
   "metadata": {},
   "outputs": [
    {
     "name": "stdin",
     "output_type": "stream",
     "text": [
      "enter the price 6000\n"
     ]
    },
    {
     "name": "stdout",
     "output_type": "stream",
     "text": [
      "i will not purchase\n",
      "price is too much\n"
     ]
    }
   ],
   "source": [
    "price = int(input(\"enter the price\"))\n",
    "if price > 1000:\n",
    "    print(\"i will not purchase\")\n",
    "    if price >5000:\n",
    "        print (\"price is too much\")\n",
    "else:\n",
    "    print(\"i will purchase\")"
   ]
  },
  {
   "cell_type": "code",
   "execution_count": 29,
   "id": "ba8328d5-3bdb-44f7-a747-4c9f2915ad00",
   "metadata": {},
   "outputs": [],
   "source": []
  },
  {
   "cell_type": "code",
   "execution_count": 30,
   "id": "1c90ae36-ac6b-450b-b2a2-7c66e42cd8a1",
   "metadata": {},
   "outputs": [],
   "source": [
    "l = [1,2,3,4,5,6,7,8]"
   ]
  },
  {
   "cell_type": "code",
   "execution_count": 31,
   "id": "210a3fd4-e26c-4b90-a16d-18796c4261fc",
   "metadata": {},
   "outputs": [
    {
     "data": {
      "text/plain": [
       "list"
      ]
     },
     "execution_count": 31,
     "metadata": {},
     "output_type": "execute_result"
    }
   ],
   "source": [
    "type(l)"
   ]
  },
  {
   "cell_type": "code",
   "execution_count": 34,
   "id": "1ce40b58-aa19-4a83-b549-14c7ea8556c4",
   "metadata": {},
   "outputs": [
    {
     "data": {
      "text/plain": [
       "2"
      ]
     },
     "execution_count": 34,
     "metadata": {},
     "output_type": "execute_result"
    }
   ],
   "source": [
    "l[0] +1"
   ]
  },
  {
   "cell_type": "code",
   "execution_count": 35,
   "id": "db31c07e-c101-4453-93cf-61b0424dcea3",
   "metadata": {},
   "outputs": [],
   "source": [
    "l1 = []"
   ]
  },
  {
   "cell_type": "code",
   "execution_count": 37,
   "id": "53737d37-5121-45d9-91f1-167d121d5a97",
   "metadata": {},
   "outputs": [],
   "source": [
    "l1.append(l[0] +1)"
   ]
  },
  {
   "cell_type": "code",
   "execution_count": 38,
   "id": "2ae3cf0e-1580-46e5-8138-afa71f151c62",
   "metadata": {},
   "outputs": [
    {
     "data": {
      "text/plain": [
       "[2]"
      ]
     },
     "execution_count": 38,
     "metadata": {},
     "output_type": "execute_result"
    }
   ],
   "source": [
    "l1"
   ]
  },
  {
   "cell_type": "code",
   "execution_count": 39,
   "id": "2bd5c9e9-75c8-4a55-a6a7-7967a5402f65",
   "metadata": {},
   "outputs": [
    {
     "data": {
      "text/plain": [
       "[1, 2, 3, 4, 5, 6, 7, 8]"
      ]
     },
     "execution_count": 39,
     "metadata": {},
     "output_type": "execute_result"
    }
   ],
   "source": [
    "l"
   ]
  },
  {
   "cell_type": "code",
   "execution_count": 40,
   "id": "ef38fbf2-c1f5-44b7-b6ed-c78052debc46",
   "metadata": {},
   "outputs": [
    {
     "name": "stdout",
     "output_type": "stream",
     "text": [
      "1\n",
      "2\n",
      "3\n",
      "4\n",
      "5\n",
      "6\n",
      "7\n",
      "8\n"
     ]
    }
   ],
   "source": [
    "for i in l:\n",
    "    print(i)"
   ]
  },
  {
   "cell_type": "code",
   "execution_count": 42,
   "id": "06cf3fbe-19ef-4bae-9f42-122dd80ff013",
   "metadata": {},
   "outputs": [],
   "source": []
  },
  {
   "cell_type": "code",
   "execution_count": 43,
   "id": "8026597e-0201-4254-a27c-84644c6a19d2",
   "metadata": {},
   "outputs": [],
   "source": [
    "l = [\"deepak\" , \"kunal\" , \"ash\"]"
   ]
  },
  {
   "cell_type": "code",
   "execution_count": 47,
   "id": "68e7cbe9-73da-422f-845e-01f4d66054d2",
   "metadata": {},
   "outputs": [
    {
     "name": "stdout",
     "output_type": "stream",
     "text": [
      "deepak\n",
      "kunal\n",
      "ash\n"
     ]
    }
   ],
   "source": [
    "l1 = []\n",
    "for i in l:\n",
    "    print(i)\n",
    "    l1.append(i.upper())"
   ]
  },
  {
   "cell_type": "code",
   "execution_count": 48,
   "id": "6ce9b028-b999-44b2-b351-1c5a0c9ec6ea",
   "metadata": {},
   "outputs": [
    {
     "data": {
      "text/plain": [
       "['DEEPAK', 'KUNAL', 'ASH']"
      ]
     },
     "execution_count": 48,
     "metadata": {},
     "output_type": "execute_result"
    }
   ],
   "source": [
    "l1"
   ]
  },
  {
   "cell_type": "code",
   "execution_count": 49,
   "id": "34c91737-7593-4452-9c81-3b866a2871b8",
   "metadata": {},
   "outputs": [],
   "source": [
    "l = [1,2,3,4,4, \"sudh\" , \"kumar\", 325 , 34.56 , \"abc\"]"
   ]
  },
  {
   "cell_type": "code",
   "execution_count": 51,
   "id": "9df5e277-e261-4814-aa45-bf8e2baa64b9",
   "metadata": {},
   "outputs": [],
   "source": [
    "l1_numeric =  []\n",
    "l2_string  = []\n",
    "for i in l:\n",
    "    if type(i) == int or type(i) == float:\n",
    "        l1_numeric.append(i)\n",
    "    else:\n",
    "        l2_string.append(i)\n",
    "    "
   ]
  },
  {
   "cell_type": "code",
   "execution_count": 53,
   "id": "49f313f9-9953-4c5c-bf7c-1948c2497ca4",
   "metadata": {},
   "outputs": [
    {
     "data": {
      "text/plain": [
       "[1, 2, 3, 4, 4, 325, 34.56]"
      ]
     },
     "execution_count": 53,
     "metadata": {},
     "output_type": "execute_result"
    }
   ],
   "source": [
    "l1_numeric"
   ]
  },
  {
   "cell_type": "code",
   "execution_count": 55,
   "id": "fe7a0cdc-bc47-423b-90c3-234947f62f85",
   "metadata": {},
   "outputs": [
    {
     "data": {
      "text/plain": [
       "['sudh', 'kumar', 'abc']"
      ]
     },
     "execution_count": 55,
     "metadata": {},
     "output_type": "execute_result"
    }
   ],
   "source": [
    "l2_string"
   ]
  },
  {
   "cell_type": "code",
   "execution_count": null,
   "id": "4b4c1ff5-482d-4008-af99-3cdbd3284aef",
   "metadata": {},
   "outputs": [],
   "source": []
  }
 ],
 "metadata": {
  "kernelspec": {
   "display_name": "Python 3 (ipykernel)",
   "language": "python",
   "name": "python3"
  },
  "language_info": {
   "codemirror_mode": {
    "name": "ipython",
    "version": 3
   },
   "file_extension": ".py",
   "mimetype": "text/x-python",
   "name": "python",
   "nbconvert_exporter": "python",
   "pygments_lexer": "ipython3",
   "version": "3.10.8"
  }
 },
 "nbformat": 4,
 "nbformat_minor": 5
}
